{
 "cells": [
  {
   "cell_type": "code",
   "execution_count": 14,
   "metadata": {},
   "outputs": [],
   "source": [
    "# test_xi_init_real.py\n",
    "import numpy as np\n",
    "from collections import Counter\n",
    "\n",
    "from env import FPLEnv\n",
    "from data_utils import load_season_fn, load_gw_fn\n",
    "from xp import load_models\n",
    "\n",
    "# ---- Adjust these ----\n",
    "BASE_DIR = \"../data/Fantasy-Premier-League\"   # path to the vaastav repo clone root\n",
    "SEASONS  = [\"2023-24\"]                        # start with one season you have features for\n",
    "START_GW = 1                                  # GW to start the episode\n",
    "models = load_models(\"../models/rand_forest/classifiers\")\n",
    "\n",
    "\n",
    "env = FPLEnv(\n",
    "    load_season_fn=load_season_fn,  # now returns season_ctx incl. predictor (if you added it)\n",
    "    load_gw_fn=load_gw_fn,          # forwards predictor to the pool builder\n",
    "    seasons=[\"2023-24\"],\n",
    "    base_dir=\"../data/Fantasy-Premier-League\",\n",
    "    start_gw=2,                     # if you want transfers to start at GW2\n",
    "    budget=100.0,\n",
    "    temperature=0.8,\n",
    "    transfer_hit=-4.0,\n",
    "    max_free_transfers=5,\n",
    "    models=models,                  # <-- pass the 4 models here\n",
    ")\n",
    "obs, info = env.reset()\n"
   ]
  },
  {
   "cell_type": "code",
   "execution_count": 15,
   "metadata": {},
   "outputs": [
    {
     "data": {
      "text/plain": [
       "[Player(pid=597, name='André Onana', pos='GK', team='Man Utd', team_id=14, price=5.0, features=(5.017559994, 2.676031997, 0.718888147, 3.310813683, 1.0), pooling_metric=158228.0, xP=0.6438328018980136),\n",
       " Player(pid=17, name='Aaron Ramsdale', pos='GK', team='Arsenal', team_id=1, price=5.0, features=(1.115013332, 0.724758666, 0.331034483, 5.0, 1.0), pooling_metric=45504.0, xP=0.7386058918410471),\n",
       " Player(pid=430, name='Kieran Trippier', pos='DEF', team='Newcastle', team_id=15, price=6.5, features=(1.115013332, 4.181299995, 0.310206408, 3.310813683, 1.0), pooling_metric=78901.0, xP=0.43464318860064455),\n",
       " Player(pid=313, name='Virgil van Dijk', pos='DEF', team='Liverpool', team_id=11, price=6.0, features=(0.0, 0.0, 0.0, 4.310813683, 1.0), pooling_metric=732873.0, xP=0.6235140979339946),\n",
       " Player(pid=131, name='Pervis Estupiñán', pos='DEF', team='Brighton', team_id=5, price=5.1, features=(3.902546662, 8.920106656, 0.910709341, 2.506614033, 1.0), pooling_metric=361772.0, xP=0.6534819320138483),\n",
       " Player(pid=473, name='George Baldock', pos='DEF', team='Sheffield Utd', team_id=17, price=4.0, features=(1.115013332, 0.557506666, 0.730817263, 2.0, 0.5), pooling_metric=100654.0, xP=0.41930714395092106),\n",
       " Player(pid=5, name='Gabriel dos Santos Magalhães', pos='DEF', team='Arsenal', team_id=1, price=5.0, features=(0.0, 0.0, 0.0, 5.0, 0.75), pooling_metric=2743150.0, xP=0.6694123109095301),\n",
       " Player(pid=403, name='Elliot Anderson', pos='MID', team='Newcastle', team_id=15, price=4.5, features=(0.0, 0.0, 0.0, 3.689186317, 0.75), pooling_metric=517541.0, xP=0.480455991809251),\n",
       " Player(pid=14, name='Martin Ødegaard', pos='MID', team='Arsenal', team_id=1, price=8.5, features=(1.115013332, 2.731782663, 0.316134926, 5.0, 1.0), pooling_metric=75089.0, xP=0.7415223221915431),\n",
       " Player(pid=226, name='Eberechi Eze', pos='MID', team='Crystal Palace', team_id=8, price=6.5, features=(0.0, 0.0, 0.0, 2.0, 1.0), pooling_metric=1431792.0, xP=0.6046095362073605),\n",
       " Player(pid=354, name='Jack Grealish', pos='MID', team='Man City', team_id=13, price=7.5, features=(0.0, 0.0, 0.0, 5.0, 0.25), pooling_metric=488362.0, xP=0.6479138673687264),\n",
       " Player(pid=308, name='Mohamed Salah', pos='MID', team='Liverpool', team_id=11, price=12.5, features=(2.78753333, 2.731782663, 0.813379713, 4.689186317, 1.0), pooling_metric=211617.0, xP=0.7696359664201998),\n",
       " Player(pid=355, name='Erling Haaland', pos='FWD', team='Man City', team_id=13, price=14.0, features=(7.247586658, 7.749342657, 0.848747652, 5.0, 1.0), pooling_metric=161773.0, xP=0.7468234194991612),\n",
       " Player(pid=135, name='João Pedro Junqueira de Jesus', pos='FWD', team='Brighton', team_id=5, price=5.5, features=(3.902546662, 6.355575992, 0.814454129, 2.506614033, 0.5), pooling_metric=266118.0, xP=0.6675519769672651),\n",
       " Player(pid=538, name='Divin Mubama', pos='FWD', team='West Ham', team_id=19, price=4.5, features=(0.0, 0.0, 0.290010773, 2.493385967, 1.0), pooling_metric=29343.0, xP=0.4827676106150321)]"
      ]
     },
     "execution_count": 15,
     "metadata": {},
     "output_type": "execute_result"
    }
   ],
   "source": [
    "env.squad.players"
   ]
  },
  {
   "cell_type": "code",
   "execution_count": 16,
   "metadata": {},
   "outputs": [
    {
     "name": "stdout",
     "output_type": "stream",
     "text": [
      "OUT: Kieran Trippier (£6.5)  ->  IN: Kyle Walker (£5.0)\n",
      "\n",
      "After step:\n",
      " GW: 3\n",
      " Reward: 6.0\n",
      " Bank: £1.5m | FTs: 0\n",
      " Captain / Vice: Mohamed Salah / Erling Haaland\n",
      " XI size: 11\n"
     ]
    }
   ],
   "source": [
    "import numpy as np\n",
    "\n",
    "players = env.squad.players\n",
    "\n",
    "# current best XI from reset/info\n",
    "xi_idx = info[\"xi_indices\"]\n",
    "\n",
    "# choose captain & vice from current XI (top-2 xP)\n",
    "xi_sorted = sorted(xi_idx, key=lambda i: players[i].xP, reverse=True)\n",
    "cap_idx = xi_sorted[0]\n",
    "vc_idx  = xi_sorted[1] if len(xi_sorted) > 1 else xi_sorted[0]\n",
    "\n",
    "# pick your worst XI player by xP to transfer out\n",
    "out_idx = min(xi_idx, key=lambda i: players[i].xP)\n",
    "out_p = players[out_idx]\n",
    "\n",
    "# find best legal incoming from the pool for the same position\n",
    "pool_pos_idxs = env.index_map[out_p.pos]\n",
    "in_idx = None\n",
    "for j in sorted(pool_pos_idxs, key=lambda k: (env.pool[k].xP, -env.pool[k].price), reverse=True):\n",
    "    if env.squad.can_swap(out_idx, env.pool[j]):\n",
    "        in_idx = j\n",
    "        break\n",
    "\n",
    "# build the action: [out, in, captain, vice]\n",
    "if in_idx is None:\n",
    "    print(\"No legal incoming found; skipping but still choose bands.\")\n",
    "    action = np.array([15, len(env.pool), cap_idx, vc_idx], dtype=int)  # skip action still needs cap/vc\n",
    "else:\n",
    "    print(f\"OUT: {out_p.name} (£{out_p.price})  ->  IN: {env.pool[in_idx].name} (£{env.pool[in_idx].price})\")\n",
    "    action = np.array([out_idx, in_idx, cap_idx, vc_idx], dtype=int)\n",
    "\n",
    "obs, reward, done, truncated, info = env.step(action)\n",
    "\n",
    "print(\"\\nAfter step:\")\n",
    "print(\" GW:\", info[\"current_gw\"])\n",
    "print(\" Reward:\", round(reward, 3))\n",
    "print(\" Bank: £{:.1f}m | FTs: {}\".format(info[\"bank\"], info[\"free_transfers\"]))\n",
    "print(\" Captain / Vice:\", info[\"captain\"], \"/\", info[\"vice_captain\"])\n",
    "print(\" XI size:\", len(info[\"xi_indices\"]))\n"
   ]
  },
  {
   "cell_type": "code",
   "execution_count": 17,
   "metadata": {},
   "outputs": [
    {
     "name": "stdout",
     "output_type": "stream",
     "text": [
      "3\n"
     ]
    },
    {
     "data": {
      "text/plain": [
       "[Player(pid=597, name='André Onana', pos='GK', team='Man Utd', team_id=14, price=5.0, features=(3.772517915, 3.222299802, 0.471577694, 3.689186317, 1.0), pooling_metric=117188.0, xP=0.633804371865569),\n",
       " Player(pid=17, name='Aaron Ramsdale', pos='GK', team='Arsenal', team_id=1, price=5.0, features=(3.130553692, 1.044622425, 0.410793002, 5.0, 1.0), pooling_metric=53491.0, xP=0.6421316529747475),\n",
       " Player(pid=369, name='Kyle Walker', pos='DEF', team='Man City', team_id=13, price=5.1, features=(4.440473701, 1.810237059, 0.906307778, 5.0, 1.0), pooling_metric=315193.0, xP=0.7403375072072906),\n",
       " Player(pid=313, name='Virgil van Dijk', pos='DEF', team='Liverpool', team_id=11, price=6.0, features=(0.0, 0.0, 0.0, 4.310813683, 1.0), pooling_metric=732873.0, xP=0.6235140979339946),\n",
       " Player(pid=131, name='Pervis Estupiñán', pos='DEF', team='Brighton', team_id=5, price=5.2, features=(6.830948443, 9.695748672, 0.967666024, 2.804199649, 1.0), pooling_metric=806778.0, xP=0.667046537084024),\n",
       " Player(pid=473, name='George Baldock', pos='DEF', team='Sheffield Utd', team_id=17, price=4.0, features=(1.115013332, 0.557506666, 0.730817263, 2.0, 0.5), pooling_metric=100654.0, xP=0.41930714395092106),\n",
       " Player(pid=5, name='Gabriel dos Santos Magalhães', pos='DEF', team='Arsenal', team_id=1, price=5.0, features=(0.0, 0.0, 0.0, 5.0, 0.75), pooling_metric=2743150.0, xP=0.6694123109095301),\n",
       " Player(pid=403, name='Elliot Anderson', pos='MID', team='Newcastle', team_id=15, price=4.5, features=(0.0, 0.0, 0.0, 3.689186317, 0.75), pooling_metric=517541.0, xP=0.480455991809251),\n",
       " Player(pid=14, name='Martin Ødegaard', pos='MID', team='Arsenal', team_id=1, price=8.5, features=(5.193548432, 5.359302437, 0.62896071, 5.0, 1.0), pooling_metric=166740.0, xP=0.7452406030684162),\n",
       " Player(pid=226, name='Eberechi Eze', pos='MID', team='Crystal Palace', team_id=8, price=6.5, features=(0.0, 0.0, 0.0, 2.0, 1.0), pooling_metric=1431792.0, xP=0.6046095362073605),\n",
       " Player(pid=354, name='Jack Grealish', pos='MID', team='Man City', team_id=13, price=7.5, features=(0.0, 0.0, 0.0, 5.0, 0.25), pooling_metric=488362.0, xP=0.6479138673687264),\n",
       " Player(pid=308, name='Mohamed Salah', pos='MID', team='Liverpool', team_id=11, price=12.5, features=(3.700394751, 7.917415915, 0.231359528, 4.310813683, 1.0), pooling_metric=98738.0, xP=0.6665198573783213),\n",
       " Player(pid=355, name='Erling Haaland', pos='FWD', team='Man City', team_id=13, price=14.0, features=(5.082437923, 7.151345401, 0.772912588, 5.0, 1.0), pooling_metric=91189.0, xP=0.8514781095504885),\n",
       " Player(pid=135, name='João Pedro Junqueira de Jesus', pos='FWD', team='Brighton', team_id=5, price=5.6, features=(2.292360015, 4.723509499, 0.119181517, 2.804199649, 0.75), pooling_metric=75870.0, xP=0.525033322940282),\n",
       " Player(pid=538, name='Divin Mubama', pos='FWD', team='West Ham', team_id=19, price=4.5, features=(0.0, 0.0, 0.12065072, 2.195800351, 1.0), pooling_metric=19394.0, xP=0.43536294501901024)]"
      ]
     },
     "execution_count": 17,
     "metadata": {},
     "output_type": "execute_result"
    }
   ],
   "source": [
    "print(env.current_gw)\n",
    "env.squad.players"
   ]
  }
 ],
 "metadata": {
  "kernelspec": {
   "display_name": "new_base",
   "language": "python",
   "name": "python3"
  },
  "language_info": {
   "codemirror_mode": {
    "name": "ipython",
    "version": 3
   },
   "file_extension": ".py",
   "mimetype": "text/x-python",
   "name": "python",
   "nbconvert_exporter": "python",
   "pygments_lexer": "ipython3",
   "version": "3.12.7"
  }
 },
 "nbformat": 4,
 "nbformat_minor": 2
}
