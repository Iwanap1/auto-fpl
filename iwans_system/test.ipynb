{
 "cells": [
  {
   "cell_type": "code",
   "execution_count": 7,
   "metadata": {},
   "outputs": [],
   "source": [
    "# test_xi_init_real.py\n",
    "import numpy as np\n",
    "from collections import Counter\n",
    "\n",
    "from env import FPLEnv\n",
    "from data_utils import load_season_fn, load_gw_fn\n",
    "from xp import load_models\n",
    "\n",
    "# ---- Adjust these ----\n",
    "BASE_DIR = \"../data/Fantasy-Premier-League\"   # path to the vaastav repo clone root\n",
    "SEASONS  = [\"2023-24\"]                        # start with one season you have features for\n",
    "START_GW = 1                                  # GW to start the episode\n",
    "models = load_models(\"../models/rand_forest/classifiers\")\n",
    "\n",
    "\n",
    "env = FPLEnv(\n",
    "    load_season_fn=load_season_fn,  # now returns season_ctx incl. predictor (if you added it)\n",
    "    load_gw_fn=load_gw_fn,          # forwards predictor to the pool builder\n",
    "    seasons=[\"2023-24\"],\n",
    "    base_dir=\"../data/Fantasy-Premier-League\",\n",
    "    start_gw=2,                     # if you want transfers to start at GW2\n",
    "    budget=100.0,\n",
    "    temperature=0.8,\n",
    "    transfer_hit=-4.0,\n",
    "    max_free_transfers=5,\n",
    "    models=models,                  # <-- pass the 4 models here\n",
    ")\n",
    "obs, info = env.reset()\n"
   ]
  },
  {
   "cell_type": "code",
   "execution_count": 8,
   "metadata": {},
   "outputs": [
    {
     "data": {
      "text/plain": [
       "[Player(pid=352, name='Ederson Santana de Moraes', pos='GK', team='Man City', team_id=13, price=5.5, features=(3.345039996, 1.003511999, 0.611458921, 5.0, 1.0), pooling_metric=88878.0, xP=0.6398868801804469),\n",
       " Player(pid=597, name='André Onana', pos='GK', team='Man Utd', team_id=14, price=5.0, features=(5.017559994, 2.676031997, 0.718888147, 3.310813683, 1.0), pooling_metric=158228.0, xP=0.6438328018980136),\n",
       " Player(pid=316, name=\"Amari'i Bell\", pos='DEF', team='Luton', team_id=12, price=4.0, features=(0.0, 0.0, 0.0, 3.554068413, 1.0), pooling_metric=773157.0, xP=0.3540019535873501),\n",
       " Player(pid=398, name='Luke Shaw', pos='DEF', team='Man Utd', team_id=14, price=5.5, features=(2.78753333, 2.397278664, 0.466748821, 3.310813683, 1.0), pooling_metric=97719.0, xP=0.41944016004729007),\n",
       " Player(pid=131, name='Pervis Estupiñán', pos='DEF', team='Brighton', team_id=5, price=5.1, features=(3.902546662, 8.920106656, 0.910709341, 2.506614033, 1.0), pooling_metric=361772.0, xP=0.6534819320138483),\n",
       " Player(pid=430, name='Kieran Trippier', pos='DEF', team='Newcastle', team_id=15, price=6.5, features=(1.115013332, 4.181299995, 0.310206408, 3.310813683, 1.0), pooling_metric=78901.0, xP=0.43464318860064444),\n",
       " Player(pid=5, name='Gabriel dos Santos Magalhães', pos='DEF', team='Arsenal', team_id=1, price=5.0, features=(0.0, 0.0, 0.0, 5.0, 0.75), pooling_metric=2743150.0, xP=0.6694123109095301),\n",
       " Player(pid=396, name='Marcus Rashford', pos='MID', team='Man Utd', team_id=14, price=9.0, features=(1.672519998, 3.568042662, 0.476604436, 3.310813683, 1.0), pooling_metric=164969.0, xP=0.44915919672090815),\n",
       " Player(pid=19, name='Bukayo Saka', pos='MID', team='Arsenal', team_id=1, price=8.6, features=(5.57506666, 7.749342657, 0.94673533, 5.0, 1.0), pooling_metric=473575.0, xP=0.8366140895986776),\n",
       " Player(pid=14, name='Martin Ødegaard', pos='MID', team='Arsenal', team_id=1, price=8.5, features=(1.115013332, 2.731782663, 0.316134926, 5.0, 1.0), pooling_metric=75089.0, xP=0.7415223221915431),\n",
       " Player(pid=226, name='Eberechi Eze', pos='MID', team='Crystal Palace', team_id=8, price=6.5, features=(0.0, 0.0, 0.0, 2.0, 1.0), pooling_metric=1431792.0, xP=0.6046095362073607),\n",
       " Player(pid=143, name='Kaoru Mitoma', pos='MID', team='Brighton', team_id=5, price=6.5, features=(2.78753333, 6.299825326, 0.595069746, 2.506614033, 1.0), pooling_metric=151741.0, xP=0.6379540207341938),\n",
       " Player(pid=355, name='Erling Haaland', pos='FWD', team='Man City', team_id=13, price=14.0, features=(7.247586658, 7.749342657, 0.848747652, 5.0, 1.0), pooling_metric=161773.0, xP=0.7468234194991612),\n",
       " Player(pid=132, name='Evan Ferguson', pos='FWD', team='Brighton', team_id=5, price=6.0, features=(2.78753333, 4.460053328, 0.410142086, 2.506614033, 0.75), pooling_metric=37439.0, xP=0.5196656194923769),\n",
       " Player(pid=33, name='Cameron Archer', pos='FWD', team='Aston Villa', team_id=2, price=4.5, features=(0.0, 0.0, 0.0, 3.310813683, 0.75), pooling_metric=532337.0, xP=0.47094280330477084)]"
      ]
     },
     "execution_count": 8,
     "metadata": {},
     "output_type": "execute_result"
    }
   ],
   "source": [
    "env.squad.players"
   ]
  },
  {
   "cell_type": "code",
   "execution_count": 9,
   "metadata": {},
   "outputs": [],
   "source": [
    "import numpy as np\n",
    "import copy\n",
    "\n",
    "def two_transfer_test(env):\n",
    "    # Reset and get current state\n",
    "    obs, info = env.reset()\n",
    "    players = env.squad.players\n",
    "    xi_idx = list(info[\"xi_indices\"])\n",
    "\n",
    "    # Pick two worst starters by xP (distinct)\n",
    "    xi_sorted_asc = sorted(xi_idx, key=lambda i: players[i].xP)\n",
    "    out1 = xi_sorted_asc[0]\n",
    "    out2 = xi_sorted_asc[1] if len(xi_sorted_asc) > 1 else 15  # sentinel if somehow no 2nd\n",
    "\n",
    "    # Helper to find best legal incoming for a given out-slot\n",
    "    def best_in_for_out(temp_squad, out_slot):\n",
    "        if out_slot >= 15:\n",
    "            return None\n",
    "        out_p = temp_squad.players[out_slot]\n",
    "        # search pool indices of same position, best xP then cheaper price\n",
    "        pool_pos_idxs = env.index_map[out_p.pos]\n",
    "        for j in sorted(pool_pos_idxs, key=lambda k: (env.pool[k].xP, -env.pool[k].price), reverse=True):\n",
    "            incoming = env.pool[j]\n",
    "            if temp_squad.can_swap(out_slot, incoming):\n",
    "                return j\n",
    "        return None\n",
    "\n",
    "    # Simulate sequentially on a temp copy (same order env applies)\n",
    "    temp = copy.deepcopy(env.squad)\n",
    "\n",
    "    in1 = best_in_for_out(temp, out1)\n",
    "    if in1 is not None:\n",
    "        temp.apply_swap(out1, env.pool[in1])\n",
    "\n",
    "    # Ensure the second out is not the same slot as the first\n",
    "    if out2 == out1:\n",
    "        # pick next worst distinct starter\n",
    "        for idx in xi_sorted_asc[2:]:\n",
    "            if idx != out1:\n",
    "                out2 = idx\n",
    "                break\n",
    "        else:\n",
    "            out2 = 15  # no valid second out → sentinel\n",
    "\n",
    "    in2 = best_in_for_out(temp, out2)\n",
    "    if in2 is not None:\n",
    "        temp.apply_swap(out2, env.pool[in2])\n",
    "\n",
    "    # Build action with proper sentinels for skips\n",
    "    action = np.array([\n",
    "        out1 if in1 is not None else 15,\n",
    "        in1  if in1 is not None else len(env.pool),\n",
    "        out2 if (out2 < 15 and in2 is not None) else 15,\n",
    "        in2  if (out2 < 15 and in2 is not None) else len(env.pool),\n",
    "    ], dtype=int)\n",
    "\n",
    "    print(\"Proposed transfers:\")\n",
    "    if in1 is not None:\n",
    "        print(f\"  T1: OUT {players[out1].name}  ->  IN {env.pool[in1].name}\")\n",
    "    else:\n",
    "        print(\"  T1: skip\")\n",
    "    if (out2 < 15) and (in2 is not None):\n",
    "        print(f\"  T2: OUT {players[out2].name}  ->  IN {env.pool[in2].name}\")\n",
    "    else:\n",
    "        print(\"  T2: skip\")\n",
    "\n",
    "    obs, reward, done, truncated, info = env.step(action)\n",
    "    print(\"Step info:\", info)\n",
    "    print(\"Reward:\", reward)\n",
    "    return obs, reward, done, truncated, info\n",
    "\n",
    "# Usage:\n",
    "# obs, reward, done, truncated, info = two_transfer_test(env)\n"
   ]
  },
  {
   "cell_type": "code",
   "execution_count": 11,
   "metadata": {},
   "outputs": [
    {
     "name": "stdout",
     "output_type": "stream",
     "text": [
      "Proposed transfers:\n",
      "  T1: OUT Kieran Trippier  ->  IN Kyle Walker\n",
      "  T2: OUT Eberechi Eze  ->  IN Luis Díaz\n",
      "Step info: {'season': '2023-24', 'current_gw': 3, 'team_xP_expected': 62.0, 'captain': 'Bukayo Saka', 'vice_captain': 'Luis Díaz', 'xi_indices': [0, 6, 4, 2, 7, 8, 10, 9, 11, 12, 14], 'bank': 0.9000000000000004, 'free_transfers': 0, 'action': 'step', 'points_hit': -4.0}\n",
      "Reward: -2.0\n",
      "Info:\n",
      "{'season': '2023-24', 'current_gw': 3, 'team_xP_expected': 62.0, 'captain': 'Bukayo Saka', 'vice_captain': 'Luis Díaz', 'xi_indices': [0, 6, 4, 2, 7, 8, 10, 9, 11, 12, 14], 'bank': 0.9000000000000004, 'free_transfers': 0, 'action': 'step', 'points_hit': -4.0}\n",
      "next pool size 80\n"
     ]
    }
   ],
   "source": [
    "outcome = two_transfer_test(env)\n",
    "print(\"Info:\")\n",
    "print(outcome[4])  # info contains the step details\n",
    "print(\"next pool size\", env.pool_size)"
   ]
  },
  {
   "cell_type": "code",
   "execution_count": 5,
   "metadata": {},
   "outputs": [
    {
     "name": "stdout",
     "output_type": "stream",
     "text": [
      "2\n"
     ]
    },
    {
     "data": {
      "text/plain": [
       "[Player(pid=524, name='Alphonse Areola', pos='GK', team='West Ham', team_id=19, price=4.0, features=(1.672519998, 1.170763999, 0.682488298, 2.493385967, 1.0), pooling_metric=93606.0, xP=0.6371754590700588),\n",
       " Player(pid=597, name='André Onana', pos='GK', team='Man Utd', team_id=14, price=5.0, features=(5.017559994, 2.676031997, 0.718888147, 3.310813683, 1.0), pooling_metric=158228.0, xP=0.6438328018980135),\n",
       " Player(pid=131, name='Pervis Estupiñán', pos='DEF', team='Brighton', team_id=5, price=5.1, features=(3.902546662, 8.920106656, 0.910709341, 2.506614033, 1.0), pooling_metric=361772.0, xP=0.6534819320138483),\n",
       " Player(pid=473, name='George Baldock', pos='DEF', team='Sheffield Utd', team_id=17, price=4.0, features=(1.115013332, 0.557506666, 0.730817263, 2.0, 0.5), pooling_metric=100654.0, xP=0.41930714395092106),\n",
       " Player(pid=29, name='Benjamin White', pos='DEF', team='Arsenal', team_id=1, price=5.5, features=(0.0, 0.0, 0.0, 5.0, 1.0), pooling_metric=812755.0, xP=0.6662881035465901),\n",
       " Player(pid=5, name='Gabriel dos Santos Magalhães', pos='DEF', team='Arsenal', team_id=1, price=5.0, features=(0.0, 0.0, 0.0, 5.0, 0.75), pooling_metric=2743150.0, xP=0.6694123109095301),\n",
       " Player(pid=368, name='John Stones', pos='DEF', team='Man City', team_id=13, price=5.5, features=(0.0, 0.0, 0.0, 5.0, 0.25), pooling_metric=2333274.0, xP=0.7410843556975046),\n",
       " Player(pid=19, name='Bukayo Saka', pos='MID', team='Arsenal', team_id=1, price=8.6, features=(5.57506666, 7.749342657, 0.94673533, 5.0, 1.0), pooling_metric=473575.0, xP=0.8366140895986776),\n",
       " Player(pid=396, name='Marcus Rashford', pos='MID', team='Man Utd', team_id=14, price=9.0, features=(1.672519998, 3.568042662, 0.476604436, 3.310813683, 1.0), pooling_metric=164969.0, xP=0.44915919672090815),\n",
       " Player(pid=402, name='Miguel Almirón Rejala', pos='MID', team='Newcastle', team_id=15, price=6.5, features=(0.0, 0.0, 0.0, 3.689186317, 1.0), pooling_metric=670992.0, xP=0.5293326633221199),\n",
       " Player(pid=353, name='Phil Foden', pos='MID', team='Man City', team_id=13, price=7.5, features=(1.672519998, 4.125549328, 0.469761163, 5.0, 1.0), pooling_metric=77947.0, xP=0.6461881311088069),\n",
       " Player(pid=504, name='James Maddison', pos='MID', team='Spurs', team_id=18, price=7.5, features=(5.017559994, 8.529851989, 0.85287325, 3.493385967, 1.0), pooling_metric=275119.0, xP=0.7121836305766841),\n",
       " Player(pid=355, name='Erling Haaland', pos='FWD', team='Man City', team_id=13, price=14.0, features=(7.247586658, 7.749342657, 0.848747652, 5.0, 1.0), pooling_metric=161773.0, xP=0.7468234194991612),\n",
       " Player(pid=135, name='João Pedro Junqueira de Jesus', pos='FWD', team='Brighton', team_id=5, price=5.5, features=(3.902546662, 6.355575992, 0.814454129, 2.506614033, 0.5), pooling_metric=266118.0, xP=0.6675519769672651),\n",
       " Player(pid=211, name='Nicolas Jackson', pos='FWD', team='Chelsea', team_id=7, price=7.0, features=(0.557506666, 3.512291996, 0.627313343, 3.0, 1.0), pooling_metric=152907.0, xP=0.579075386741455)]"
      ]
     },
     "execution_count": 5,
     "metadata": {},
     "output_type": "execute_result"
    }
   ],
   "source": [
    "print(env.current_gw)\n",
    "env.squad.players"
   ]
  }
 ],
 "metadata": {
  "kernelspec": {
   "display_name": "new_base",
   "language": "python",
   "name": "python3"
  },
  "language_info": {
   "codemirror_mode": {
    "name": "ipython",
    "version": 3
   },
   "file_extension": ".py",
   "mimetype": "text/x-python",
   "name": "python",
   "nbconvert_exporter": "python",
   "pygments_lexer": "ipython3",
   "version": "3.12.7"
  }
 },
 "nbformat": 4,
 "nbformat_minor": 2
}
