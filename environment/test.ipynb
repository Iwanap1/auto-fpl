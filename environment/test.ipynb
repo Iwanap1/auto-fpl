{
 "cells": [
  {
   "cell_type": "code",
   "execution_count": 1,
   "metadata": {},
   "outputs": [],
   "source": [
    "from sim_environment import *\n",
    "from load_csv import load_csv\n",
    "from random_initializer import *"
   ]
  },
  {
   "cell_type": "code",
   "execution_count": 2,
   "metadata": {},
   "outputs": [],
   "source": [
    "season = \"2024-25\"\n",
    "gw = 1"
   ]
  },
  {
   "cell_type": "code",
   "execution_count": 3,
   "metadata": {},
   "outputs": [],
   "source": [
    "season = \"2024-25\"\n",
    "gw = 1\n",
    "root = f\"../../auto-fpl/data/Fantasy-Premier-League/data/{season}\"\n",
    "players_raw = load_csv(root + \"/players_raw.csv\")\n",
    "gw_df = load_csv(root + f\"/gws/gw{gw}.csv\")\n",
    "fixtures_df = load_csv(root + \"/fixtures.csv\")\n",
    "teams_df = load_csv(root + \"/teams.csv\")"
   ]
  },
  {
   "cell_type": "code",
   "execution_count": 4,
   "metadata": {},
   "outputs": [
    {
     "name": "stdout",
     "output_type": "stream",
     "text": [
      "Candidate pool built: 80 players\n",
      "Index map sizes: {'GK': 20, 'DEF': 20, 'MID': 20, 'FWD': 20}\n"
     ]
    },
    {
     "ename": "AssertionError",
     "evalue": "Squad must have 15 players",
     "output_type": "error",
     "traceback": [
      "\u001b[0;31m---------------------------------------------------------------------------\u001b[0m",
      "\u001b[0;31mAssertionError\u001b[0m                            Traceback (most recent call last)",
      "Cell \u001b[0;32mIn[4], line 6\u001b[0m\n\u001b[1;32m      3\u001b[0m \u001b[38;5;28mprint\u001b[39m(\u001b[38;5;124mf\u001b[39m\u001b[38;5;124m\"\u001b[39m\u001b[38;5;124mCandidate pool built: \u001b[39m\u001b[38;5;132;01m{\u001b[39;00m\u001b[38;5;28mlen\u001b[39m(pool_df)\u001b[38;5;132;01m}\u001b[39;00m\u001b[38;5;124m players\u001b[39m\u001b[38;5;124m\"\u001b[39m)\n\u001b[1;32m      4\u001b[0m \u001b[38;5;28mprint\u001b[39m(\u001b[38;5;124m\"\u001b[39m\u001b[38;5;124mIndex map sizes:\u001b[39m\u001b[38;5;124m\"\u001b[39m, {k: \u001b[38;5;28mlen\u001b[39m(v) \u001b[38;5;28;01mfor\u001b[39;00m k,v \u001b[38;5;129;01min\u001b[39;00m index_map\u001b[38;5;241m.\u001b[39mitems()})\n\u001b[0;32m----> 6\u001b[0m squad_xi \u001b[38;5;241m=\u001b[39m ti\u001b[38;5;241m.\u001b[39mrandom_initial_xi_from_pool(pool_df, fixtures_df, teams_df, bank\u001b[38;5;241m=\u001b[39m\u001b[38;5;241m100.0\u001b[39m)\n\u001b[1;32m      7\u001b[0m \u001b[38;5;28mprint\u001b[39m(\u001b[38;5;124m\"\u001b[39m\u001b[38;5;124mRandom XI:\u001b[39m\u001b[38;5;124m\"\u001b[39m)\n\u001b[1;32m      8\u001b[0m \u001b[38;5;28;01mfor\u001b[39;00m p \u001b[38;5;129;01min\u001b[39;00m squad_xi\u001b[38;5;241m.\u001b[39mplayers:\n",
      "File \u001b[0;32m~/Desktop/auto-fpl/environment/random_initializer.py:168\u001b[0m, in \u001b[0;36mTeamInitializer.random_initial_xi_from_pool\u001b[0;34m(self, pool_df, fixtures_df, teams_df, tries, bank)\u001b[0m\n\u001b[1;32m    166\u001b[0m     players: List[Player] \u001b[38;5;241m=\u001b[39m [\u001b[38;5;28mself\u001b[39m\u001b[38;5;241m.\u001b[39mrow_to_player(r, fixtures_df, teams_df) \u001b[38;5;28;01mfor\u001b[39;00m r \u001b[38;5;129;01min\u001b[39;00m xi_rows]\n\u001b[1;32m    167\u001b[0m     remaining \u001b[38;5;241m=\u001b[39m bank \u001b[38;5;241m-\u001b[39m spent\n\u001b[0;32m--> 168\u001b[0m     \u001b[38;5;28;01mreturn\u001b[39;00m Squad(players, bank\u001b[38;5;241m=\u001b[39mremaining, free_transfers\u001b[38;5;241m=\u001b[39m\u001b[38;5;241m2\u001b[39m)\n\u001b[1;32m    170\u001b[0m \u001b[38;5;28;01mraise\u001b[39;00m \u001b[38;5;167;01mRuntimeError\u001b[39;00m(\u001b[38;5;124m\"\u001b[39m\u001b[38;5;124mCould not form a legal XI from this pool (check budget or per_pos)\u001b[39m\u001b[38;5;124m\"\u001b[39m)\n",
      "File \u001b[0;32m~/Desktop/auto-fpl/environment/squad.py:14\u001b[0m, in \u001b[0;36mSquad.__init__\u001b[0;34m(self, players, bank, free_transfers)\u001b[0m\n\u001b[1;32m     13\u001b[0m \u001b[38;5;28;01mdef\u001b[39;00m \u001b[38;5;21m__init__\u001b[39m(\u001b[38;5;28mself\u001b[39m, players: List[Player], bank: \u001b[38;5;28mfloat\u001b[39m, free_transfers: \u001b[38;5;28mint\u001b[39m \u001b[38;5;241m=\u001b[39m \u001b[38;5;241m1\u001b[39m):\n\u001b[0;32m---> 14\u001b[0m     \u001b[38;5;28;01massert\u001b[39;00m \u001b[38;5;28mlen\u001b[39m(players) \u001b[38;5;241m==\u001b[39m \u001b[38;5;241m15\u001b[39m, \u001b[38;5;124m\"\u001b[39m\u001b[38;5;124mSquad must have 15 players\u001b[39m\u001b[38;5;124m\"\u001b[39m\n\u001b[1;32m     15\u001b[0m     \u001b[38;5;28mself\u001b[39m\u001b[38;5;241m.\u001b[39mplayers: List[Player] \u001b[38;5;241m=\u001b[39m \u001b[38;5;28mlist\u001b[39m(players)\n\u001b[1;32m     16\u001b[0m     \u001b[38;5;28mself\u001b[39m\u001b[38;5;241m.\u001b[39mbank \u001b[38;5;241m=\u001b[39m \u001b[38;5;28mfloat\u001b[39m(bank)\n",
      "\u001b[0;31mAssertionError\u001b[0m: Squad must have 15 players"
     ]
    }
   ],
   "source": [
    "ti = TeamInitializer(per_pos=20, seed=42)\n",
    "pool_df, index_map = ti.build_candidate_pool_from_gw(gw_df, fixtures_df, teams_df, gw)\n",
    "print(f\"Candidate pool built: {len(pool_df)} players\")\n",
    "print(\"Index map sizes:\", {k: len(v) for k,v in index_map.items()})\n",
    "\n",
    "squad_xi = ti.random_initial_xi_from_pool(pool_df, fixtures_df, teams_df, bank=100.0)\n",
    "print(\"Random XI:\")\n",
    "for p in squad_xi.players:\n",
    "    print(f\" - {p.name} ({p.pos}, {p.team_id}, £{p.price}m)\")\n",
    "print(f\"Remaining bank: £{squad_xi.bank}m\")\n",
    "print(\"Club counts:\", squad_xi.club_counts())"
   ]
  },
  {
   "cell_type": "code",
   "execution_count": null,
   "metadata": {},
   "outputs": [
    {
     "data": {
      "text/plain": [
       "[Player(pid=508, name='Guglielmo Vicario', pos='GK', team='Spurs', team_id=18, price=5.0, xP=3.6, metric=355891.0),\n",
       " Player(pid=73, name='Norberto Murara Neto', pos='GK', team='Bournemouth', team_id=3, price=4.5, xP=2.2, metric=198435.0),\n",
       " Player(pid=44, name='Ezri Konsa Ngoyo', pos='DEF', team='Aston Villa', team_id=2, price=4.5, xP=1.9, metric=1165894.0),\n",
       " Player(pid=461, name='Taylor Harwood-Bellis', pos='DEF', team='Southampton', team_id=17, price=4.0, xP=0.0, metric=934150.0),\n",
       " Player(pid=495, name='Pedro Porro', pos='DEF', team='Spurs', team_id=18, price=5.5, xP=3.3, metric=3078763.0),\n",
       " Player(pid=369, name='Diogo Dalot Teixeira', pos='DEF', team='Man Utd', team_id=14, price=5.0, xP=2.4, metric=701512.0),\n",
       " Player(pid=418, name='Kieran Trippier', pos='DEF', team='Newcastle', team_id=15, price=6.0, xP=4.2, metric=1193630.0),\n",
       " Player(pid=366, name='Bruno Borges Fernandes', pos='MID', team='Man Utd', team_id=14, price=8.5, xP=2.9, metric=1728175.0),\n",
       " Player(pid=54, name='Morgan Rogers', pos='MID', team='Aston Villa', team_id=2, price=5.0, xP=1.6, metric=786621.0),\n",
       " Player(pid=372, name='Alejandro Garnacho', pos='MID', team='Man Utd', team_id=14, price=6.5, xP=2.3, metric=1548926.0),\n",
       " Player(pid=19, name='Emile Smith Rowe', pos='MID', team='Fulham', team_id=9, price=5.5, xP=2.0, metric=1427753.0),\n",
       " Player(pid=309, name='Harry Winks', pos='MID', team='Leicester', team_id=11, price=4.5, xP=0.5, metric=1202141.0),\n",
       " Player(pid=321, name='Cody Gakpo', pos='FWD', team='Liverpool', team_id=12, price=7.5, xP=3.4, metric=367195.0),\n",
       " Player(pid=58, name='Ollie Watkins', pos='FWD', team='Aston Villa', team_id=2, price=9.0, xP=2.7, metric=3152729.0),\n",
       " Player(pid=351, name='Erling Haaland', pos='FWD', team='Man City', team_id=13, price=15.0, xP=5.0, metric=4408007.0)]"
      ]
     },
     "execution_count": 13,
     "metadata": {},
     "output_type": "execute_result"
    }
   ],
   "source": [
    "squad.players"
   ]
  },
  {
   "cell_type": "code",
   "execution_count": null,
   "metadata": {},
   "outputs": [],
   "source": [
    "from iwans_system.xp import ScorePredictor"
   ]
  },
  {
   "cell_type": "code",
   "execution_count": null,
   "metadata": {},
   "outputs": [],
   "source": []
  }
 ],
 "metadata": {
  "kernelspec": {
   "display_name": "new_base",
   "language": "python",
   "name": "python3"
  },
  "language_info": {
   "codemirror_mode": {
    "name": "ipython",
    "version": 3
   },
   "file_extension": ".py",
   "mimetype": "text/x-python",
   "name": "python",
   "nbconvert_exporter": "python",
   "pygments_lexer": "ipython3",
   "version": "3.12.7"
  }
 },
 "nbformat": 4,
 "nbformat_minor": 2
}
